{
 "cells": [
  {
   "cell_type": "markdown",
   "metadata": {},
   "source": [
    "## Import libraries"
   ]
  },
  {
   "cell_type": "code",
   "execution_count": 1,
   "metadata": {},
   "outputs": [],
   "source": [
    "import h2o"
   ]
  },
  {
   "cell_type": "markdown",
   "metadata": {},
   "source": [
    "#### Download snowflakes jdbc driver 3.12.12 latest version\n",
    "\n",
    "https://repo1.maven.org/maven2/net/snowflake/snowflake-jdbc/3.12.12/\n",
    "\n",
    "#### After downloading the snowflakes jar h2o-3 folder\n",
    "\n",
    "````mv ~/Download/snowflake-jdbc-3.12.9.jar h2o-3.30.1.1/````\n",
    "\n",
    "After you are in h2o-3.30.1.1 folder run \n",
    "\n",
    "```java -cp h2o.jar:snowflake-jdbc-3.12.9.jar water.H2OApp```\n",
    "\n",
    "it will start h2o instance with jdbc connected\n"
   ]
  },
  {
   "cell_type": "markdown",
   "metadata": {},
   "source": [
    "## Connect as following "
   ]
  },
  {
   "cell_type": "code",
   "execution_count": 12,
   "metadata": {},
   "outputs": [
    {
     "name": "stdout",
     "output_type": "stream",
     "text": [
      "Connecting to H2O server at http://192.168.0.5:54321 ... successful.\n"
     ]
    },
    {
     "data": {
      "text/html": [
       "<div style=\"overflow:auto\"><table style=\"width:50%\"><tr><td>H2O_cluster_uptime:</td>\n",
       "<td>8 mins 22 secs</td></tr>\n",
       "<tr><td>H2O_cluster_timezone:</td>\n",
       "<td>America/Denver</td></tr>\n",
       "<tr><td>H2O_data_parsing_timezone:</td>\n",
       "<td>UTC</td></tr>\n",
       "<tr><td>H2O_cluster_version:</td>\n",
       "<td>3.30.1.1</td></tr>\n",
       "<tr><td>H2O_cluster_version_age:</td>\n",
       "<td>1 month and 20 days </td></tr>\n",
       "<tr><td>H2O_cluster_name:</td>\n",
       "<td>rdangol</td></tr>\n",
       "<tr><td>H2O_cluster_total_nodes:</td>\n",
       "<td>1</td></tr>\n",
       "<tr><td>H2O_cluster_free_memory:</td>\n",
       "<td>3.532 Gb</td></tr>\n",
       "<tr><td>H2O_cluster_total_cores:</td>\n",
       "<td>8</td></tr>\n",
       "<tr><td>H2O_cluster_allowed_cores:</td>\n",
       "<td>8</td></tr>\n",
       "<tr><td>H2O_cluster_status:</td>\n",
       "<td>locked, healthy</td></tr>\n",
       "<tr><td>H2O_connection_url:</td>\n",
       "<td>http://192.168.0.5:54321</td></tr>\n",
       "<tr><td>H2O_connection_proxy:</td>\n",
       "<td>null</td></tr>\n",
       "<tr><td>H2O_internal_security:</td>\n",
       "<td>False</td></tr>\n",
       "<tr><td>H2O_API_Extensions:</td>\n",
       "<td>Amazon S3, XGBoost, Algos, AutoML, Core V3, TargetEncoder, Core V4</td></tr>\n",
       "<tr><td>Python_version:</td>\n",
       "<td>3.6.5 final</td></tr></table></div>"
      ],
      "text/plain": [
       "--------------------------  ------------------------------------------------------------------\n",
       "H2O_cluster_uptime:         8 mins 22 secs\n",
       "H2O_cluster_timezone:       America/Denver\n",
       "H2O_data_parsing_timezone:  UTC\n",
       "H2O_cluster_version:        3.30.1.1\n",
       "H2O_cluster_version_age:    1 month and 20 days\n",
       "H2O_cluster_name:           rdangol\n",
       "H2O_cluster_total_nodes:    1\n",
       "H2O_cluster_free_memory:    3.532 Gb\n",
       "H2O_cluster_total_cores:    8\n",
       "H2O_cluster_allowed_cores:  8\n",
       "H2O_cluster_status:         locked, healthy\n",
       "H2O_connection_url:         http://192.168.0.5:54321\n",
       "H2O_connection_proxy:       null\n",
       "H2O_internal_security:      False\n",
       "H2O_API_Extensions:         Amazon S3, XGBoost, Algos, AutoML, Core V3, TargetEncoder, Core V4\n",
       "Python_version:             3.6.5 final\n",
       "--------------------------  ------------------------------------------------------------------"
      ]
     },
     "metadata": {},
     "output_type": "display_data"
    },
    {
     "data": {
      "text/plain": [
       "<H2OConnection to http://192.168.0.5:54321, no session>"
      ]
     },
     "execution_count": 12,
     "metadata": {},
     "output_type": "execute_result"
    }
   ],
   "source": [
    "## if you start with command line and ```java -cp h2o.jar:~/Downloads/snowflake-jdbc-3.12.9.jar water.H2OApp``` use connect and use the url of the cluster \n",
    "\n",
    "h2o.connect(url=\"http://192.168.0.5:54321\")\n",
    "\n",
    "## for h2o.init() use the external path, to exact path to the snowflakes JDBC driver\n",
    "\n",
    "# h2o.init(extra_classpath=\"/Users/rdangol/Downloads/h2o-3.30.1.1/snowflake-jdbc-3.12.9.jar\") ## extact path to the jdbc jar "
   ]
  },
  {
   "cell_type": "code",
   "execution_count": 6,
   "metadata": {},
   "outputs": [
    {
     "name": "stdout",
     "output_type": "stream",
     "text": [
      "Import SQL Table progress: |██████████████████████████████████████████████| 100%\n"
     ]
    }
   ],
   "source": [
    "#h2o.connect(url=\"http://192.168.0.5:54321\")\n",
    "data = h2o.import_sql_table(\"jdbc:snowflake://uga19813.snowflakecomputing.com/\",\n",
    "                            \"SNOWFLAKE_SAMPLE_DATA.TPCDS_SF100TCL.CALL_CENTER\",\n",
    "                            username=\"user\", \n",
    "                            password=\"pass\")"
   ]
  },
  {
   "cell_type": "code",
   "execution_count": 9,
   "metadata": {},
   "outputs": [
    {
     "name": "stdout",
     "output_type": "stream",
     "text": [
      "Import SQL Table progress: |██████████████████████████████████████████████| 100%\n"
     ]
    }
   ],
   "source": [
    "data_snowflakes = h2o.import_sql_select(connection_url=\"jdbc:snowflake://uga19813.snowflakecomputing.com/\", \n",
    "                      select_query=\"SELECT * FROM SNOWFLAKE_SAMPLE_DATA.TPCDS_SF100TCL.CALL_CENTER\",\n",
    "                      username=\"user\", \n",
    "                      password=\"pass\", \n",
    "                      use_temp_table=False)"
   ]
  },
  {
   "cell_type": "code",
   "execution_count": 11,
   "metadata": {},
   "outputs": [
    {
     "data": {
      "text/html": [
       "<table>\n",
       "<thead>\n",
       "<tr><th style=\"text-align: right;\">  CC_CALL_CENTER_SK</th><th>CC_CALL_CENTER_ID  </th><th>CC_REC_START_DATE  </th><th>CC_REC_END_DATE    </th><th style=\"text-align: right;\">  CC_CLOSED_DATE_SK</th><th style=\"text-align: right;\">  CC_OPEN_DATE_SK</th><th>CC_NAME      </th><th>CC_CLASS  </th><th style=\"text-align: right;\">  CC_EMPLOYEES</th><th style=\"text-align: right;\">    CC_SQ_FT</th><th>CC_HOURS  </th><th>CC_MANAGER    </th><th style=\"text-align: right;\">  CC_MKT_ID</th><th>CC_MKT_CLASS                                 </th><th>CC_MKT_DESC                                                                                 </th><th>CC_MARKET_MANAGER  </th><th style=\"text-align: right;\">  CC_DIVISION</th><th>CC_DIVISION_NAME  </th><th style=\"text-align: right;\">  CC_COMPANY</th><th>CC_COMPANY_NAME  </th><th style=\"text-align: right;\">  CC_STREET_NUMBER</th><th>CC_STREET_NAME  </th><th>CC_STREET_TYPE  </th><th>CC_SUITE_NUMBER  </th><th>CC_CITY      </th><th>CC_COUNTY     </th><th>CC_STATE  </th><th style=\"text-align: right;\">  CC_ZIP</th><th>CC_COUNTRY   </th><th style=\"text-align: right;\">  CC_GMT_OFFSET</th><th style=\"text-align: right;\">  CC_TAX_PERCENTAGE</th></tr>\n",
       "</thead>\n",
       "<tbody>\n",
       "<tr><td style=\"text-align: right;\">                  1</td><td>AAAAAAAABAAAAAAA   </td><td>1998-01-01 07:00:00</td><td>                   </td><td style=\"text-align: right;\">                nan</td><td style=\"text-align: right;\">      2.45095e+06</td><td>NY Metro     </td><td>large     </td><td style=\"text-align: right;\">   5.9716e+08 </td><td style=\"text-align: right;\"> 4.81436e+08</td><td>8AM-4PM   </td><td>Bob Belcher   </td><td style=\"text-align: right;\">          6</td><td>More than other authori                      </td><td>Shared others could not count fully dollars. New members ca                                 </td><td>Julius Tran        </td><td style=\"text-align: right;\">            3</td><td>pri               </td><td style=\"text-align: right;\">           6</td><td>cally            </td><td style=\"text-align: right;\">               730</td><td>Ash Hill        </td><td>Boulevard       </td><td>Suite 0          </td><td>Georgetown   </td><td>Harmon County </td><td>OK        </td><td style=\"text-align: right;\">   77057</td><td>United States</td><td style=\"text-align: right;\">             -6</td><td style=\"text-align: right;\">               0.11</td></tr>\n",
       "<tr><td style=\"text-align: right;\">                  2</td><td>AAAAAAAACAAAAAAA   </td><td>1998-01-01 07:00:00</td><td>2000-12-31 07:00:00</td><td style=\"text-align: right;\">                nan</td><td style=\"text-align: right;\">      2.45081e+06</td><td>Mid Atlantic </td><td>medium    </td><td style=\"text-align: right;\">   9.44879e+08</td><td style=\"text-align: right;\"> 6.82004e+08</td><td>8AM-8AM   </td><td>Felipe Perkins</td><td style=\"text-align: right;\">          2</td><td>A bit narrow forms matter animals. Consist   </td><td>Largely blank years put substantially deaf, new others. Question                            </td><td>Julius Durham      </td><td style=\"text-align: right;\">            5</td><td>anti              </td><td style=\"text-align: right;\">           1</td><td>ought            </td><td style=\"text-align: right;\">               984</td><td>Center Hill     </td><td>Way             </td><td>Suite 70         </td><td>Friendship   </td><td>Raleigh County</td><td>WV        </td><td style=\"text-align: right;\">   24536</td><td>United States</td><td style=\"text-align: right;\">             -5</td><td style=\"text-align: right;\">               0.12</td></tr>\n",
       "<tr><td style=\"text-align: right;\">                  3</td><td>AAAAAAAACAAAAAAA   </td><td>2001-01-01 07:00:00</td><td>                   </td><td style=\"text-align: right;\">                nan</td><td style=\"text-align: right;\">      2.45081e+06</td><td>Mid Atlantic </td><td>medium    </td><td style=\"text-align: right;\">   9.44879e+08</td><td style=\"text-align: right;\">-1.81335e+09</td><td>8AM-4PM   </td><td>Mark Hightower</td><td style=\"text-align: right;\">          2</td><td>Wrong troops shall work sometimes in a opti  </td><td>Largely blank years put substantially deaf, new others. Question                            </td><td>Julius Durham      </td><td style=\"text-align: right;\">            1</td><td>ought             </td><td style=\"text-align: right;\">           2</td><td>able             </td><td style=\"text-align: right;\">               984</td><td>Center Hill     </td><td>Way             </td><td>Suite 70         </td><td>Friendship   </td><td>Raleigh County</td><td>WV        </td><td style=\"text-align: right;\">   24536</td><td>United States</td><td style=\"text-align: right;\">             -5</td><td style=\"text-align: right;\">               0.01</td></tr>\n",
       "<tr><td style=\"text-align: right;\">                  4</td><td>AAAAAAAAEAAAAAAA   </td><td>1998-01-01 07:00:00</td><td>2000-01-01 07:00:00</td><td style=\"text-align: right;\">                nan</td><td style=\"text-align: right;\">      2.45106e+06</td><td>North Midwest</td><td>medium    </td><td style=\"text-align: right;\">   6.9833e+08 </td><td style=\"text-align: right;\">-2.05027e+09</td><td>8AM-4PM   </td><td>Larry Mccray  </td><td style=\"text-align: right;\">          2</td><td>Dealers make most historical, direct students</td><td>Rich groups catch longer other fears; future,                                               </td><td>Matthew Clifton    </td><td style=\"text-align: right;\">            4</td><td>ese               </td><td style=\"text-align: right;\">           3</td><td>pri              </td><td style=\"text-align: right;\">               463</td><td>Pine Ridge      </td><td>RD              </td><td>Suite U          </td><td>Spring Valley</td><td>Saginaw County</td><td>MI        </td><td style=\"text-align: right;\">   46060</td><td>United States</td><td style=\"text-align: right;\">             -5</td><td style=\"text-align: right;\">               0.05</td></tr>\n",
       "<tr><td style=\"text-align: right;\">                  5</td><td>AAAAAAAAEAAAAAAA   </td><td>2000-01-02 07:00:00</td><td>2001-12-31 07:00:00</td><td style=\"text-align: right;\">                nan</td><td style=\"text-align: right;\">      2.45106e+06</td><td>North Midwest</td><td>small     </td><td style=\"text-align: right;\">   8.36465e+08</td><td style=\"text-align: right;\">-1.6751e+09 </td><td>8AM-8AM   </td><td>Larry Mccray  </td><td style=\"text-align: right;\">          2</td><td>Dealers make most historical, direct students</td><td>Blue, due beds come. Politicians would not make far thoughts. Specifically new horses partic</td><td>Gary Colburn       </td><td style=\"text-align: right;\">            4</td><td>ese               </td><td style=\"text-align: right;\">           3</td><td>pri              </td><td style=\"text-align: right;\">               463</td><td>Pine Ridge      </td><td>RD              </td><td>Suite U          </td><td>Spring Valley</td><td>Saginaw County</td><td>MI        </td><td style=\"text-align: right;\">   46060</td><td>United States</td><td style=\"text-align: right;\">             -5</td><td style=\"text-align: right;\">               0.12</td></tr>\n",
       "</tbody>\n",
       "</table>"
      ]
     },
     "metadata": {},
     "output_type": "display_data"
    },
    {
     "data": {
      "text/plain": []
     },
     "execution_count": 11,
     "metadata": {},
     "output_type": "execute_result"
    }
   ],
   "source": [
    "data_snowflakes.head(5)"
   ]
  },
  {
   "cell_type": "markdown",
   "metadata": {},
   "source": [
    "## Snowflakes connection to Python client without H2O and driver "
   ]
  },
  {
   "cell_type": "code",
   "execution_count": 4,
   "metadata": {},
   "outputs": [],
   "source": [
    "import snowflake.connector \n",
    "\n",
    "for line in open(\"snowflakes_password.txt\",\"r\").readlines():\n",
    "    password = line.strip()\n",
    "    \n",
    "    \n",
    "connect_snowflakes = snowflake.connector.connect( \n",
    "         user='retimadangol', \n",
    "         password=password, \n",
    "        account='uga19813') \n",
    "\n",
    "cs = connect_snowflakes.cursor()"
   ]
  },
  {
   "cell_type": "code",
   "execution_count": 5,
   "metadata": {},
   "outputs": [
    {
     "data": {
      "text/plain": [
       "[(0, 43),\n",
       " (1, 39),\n",
       " (2, 144),\n",
       " (3, 115),\n",
       " (4, 72),\n",
       " (5, 113),\n",
       " (6, 67),\n",
       " (7, 69),\n",
       " (8, 111),\n",
       " (9, 70),\n",
       " (10, 108),\n",
       " (11, 146),\n",
       " (12, 117),\n",
       " (13, 14),\n",
       " (14, 15)]"
      ]
     },
     "execution_count": 5,
     "metadata": {},
     "output_type": "execute_result"
    }
   ],
   "source": [
    "cs.execute(\"select seq4(), uniform(1, 150, random(150)) from table(generator(rowcount => 150)) order by 1;\")\n",
    "\n",
    "data = cs.fetchmany(15)\n",
    "data"
   ]
  },
  {
   "cell_type": "code",
   "execution_count": null,
   "metadata": {},
   "outputs": [],
   "source": []
  }
 ],
 "metadata": {
  "kernelspec": {
   "display_name": "Python 3",
   "language": "python",
   "name": "python3"
  },
  "language_info": {
   "codemirror_mode": {
    "name": "ipython",
    "version": 3
   },
   "file_extension": ".py",
   "mimetype": "text/x-python",
   "name": "python",
   "nbconvert_exporter": "python",
   "pygments_lexer": "ipython3",
   "version": "3.6.5"
  }
 },
 "nbformat": 4,
 "nbformat_minor": 4
}
